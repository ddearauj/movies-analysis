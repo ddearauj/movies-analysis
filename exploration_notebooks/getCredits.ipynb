{
 "cells": [
  {
   "cell_type": "code",
   "execution_count": 10,
   "metadata": {
    "collapsed": false
   },
   "outputs": [],
   "source": [
    "import http.client\n",
    "import json\n",
    "from settings import API_KEY\n",
    "import time\n",
    "from pandas.io.json import json_normalize\n",
    "import pandas as pd\n",
    "import  csv"
   ]
  },
  {
   "cell_type": "markdown",
   "metadata": {},
   "source": [
    "## Funções"
   ]
  },
  {
   "cell_type": "code",
   "execution_count": null,
   "metadata": {
    "collapsed": true
   },
   "outputs": [],
   "source": [
    "def get_url_credits(movie_id, api_key):\n",
    "    return(\"/3/movie/\" + str(movie_id) + \"/credits\" + \"?api_key=\" + str(api_key))\n",
    "\n",
    "def get_json(conn, url):\n",
    "\tpayload = \"{}\"\n",
    "\tconn.request(\"GET\", url, payload)\n",
    "\tres = conn.getresponse()\n",
    "\tdata = res.read()\n",
    "\treturn(json.loads(data.decode(\"    utf-8\")))"
   ]
  },
  {
   "cell_type": "code",
   "execution_count": null,
   "metadata": {
    "collapsed": true
   },
   "outputs": [],
   "source": [
    "def get_movie_credits(ids):\n",
    "    \n",
    "\tconn = http.client.HTTPSConnection(\"api.themoviedb.org\")    \n",
    "\tmovie_credits_df = pd.DataFrame()\n",
    "    \n",
    "\tfor movie_id in ids:\n",
    "\t\turl = get_url_credits(movie_id, API_KEY)\n",
    "        \n",
    "\t\ttry:\n",
    "\t\t\tcredits_data = get_json(conn, url)\n",
    "\t\texcept Exception as e:\n",
    "\t\t\tif (credits_data['status_code'] == 25):\n",
    "\t\t\t\ttime.sleep(10)                \n",
    "\t\t\t\tcredits_data = get_json(conn, url)        \n",
    "        \n",
    "\t\tdf = json_normalize(credits_data)\n",
    "\t\tmovie_credits_df = movie_credits_df.append(df)\n",
    "\n",
    "\treturn movie_credits_df"
   ]
  },
  {
   "cell_type": "code",
   "execution_count": null,
   "metadata": {
    "collapsed": true
   },
   "outputs": [],
   "source": [
    "def get_cast(ids, movie_credits_df):\n",
    "\n",
    "    movie_cast_df = pd.DataFrame()\n",
    "\n",
    "    for idx,movie_id in enumerate(ids,40):\n",
    "\n",
    "        movie_item = pd.DataFrame()\n",
    "        movie_item = movie_credits_df[movie_credits_df['id']==int(movie_id)].reset_index()\n",
    "        print(\"%s of %s\" % (idx,len(ids)))\n",
    "\n",
    "        print(movie_item['cast'])\n",
    "        \n",
    "        for cast_id in movie_item['cast'][0]: # ESSA LINHA ESTÁ DANDO PROBLEMA DE INDEX            \n",
    "            cast_id.update({'movie_id': int(movie_id)})\n",
    "            cast_id.pop('profile_path', None)\n",
    "            movie_cast_df = movie_cast_df.append(cast_id, ignore_index=True)\n",
    "    \n",
    "    return movie_cast_df"
   ]
  },
  {
   "cell_type": "markdown",
   "metadata": {},
   "source": [
    "## Testes"
   ]
  },
  {
   "cell_type": "code",
   "execution_count": 3,
   "metadata": {
    "collapsed": true
   },
   "outputs": [],
   "source": [
    "movie_credits_df = pd.read_csv('movie_credits_df.csv')"
   ]
  },
  {
   "cell_type": "code",
   "execution_count": 4,
   "metadata": {
    "collapsed": false
   },
   "outputs": [
    {
     "data": {
      "text/plain": [
       "(147507, 4)"
      ]
     },
     "execution_count": 4,
     "metadata": {},
     "output_type": "execute_result"
    }
   ],
   "source": [
    "movie_credits_df.shape"
   ]
  },
  {
   "cell_type": "code",
   "execution_count": 7,
   "metadata": {
    "collapsed": true
   },
   "outputs": [],
   "source": [
    "movie_credits_df = movie_credits_df.drop_duplicates('id', keep='first')"
   ]
  },
  {
   "cell_type": "code",
   "execution_count": 8,
   "metadata": {
    "collapsed": false
   },
   "outputs": [
    {
     "data": {
      "text/plain": [
       "(115909, 4)"
      ]
     },
     "execution_count": 8,
     "metadata": {},
     "output_type": "execute_result"
    }
   ],
   "source": [
    "movie_credits_df.shape"
   ]
  },
  {
   "cell_type": "code",
   "execution_count": 11,
   "metadata": {
    "collapsed": false
   },
   "outputs": [],
   "source": [
    "with open('out_sample.csv', 'r') as f:\n",
    "    reader = csv.reader(f, skipinitialspace=True, delimiter=',')\n",
    "    ids_list = list(reader)\n",
    "    \n",
    "ids = [item for sublist in ids_list for item in sublist]"
   ]
  },
  {
   "cell_type": "code",
   "execution_count": 12,
   "metadata": {
    "collapsed": false
   },
   "outputs": [
    {
     "data": {
      "text/plain": [
       "156"
      ]
     },
     "execution_count": 12,
     "metadata": {},
     "output_type": "execute_result"
    }
   ],
   "source": [
    "len(ids)"
   ]
  },
  {
   "cell_type": "code",
   "execution_count": null,
   "metadata": {
    "collapsed": true
   },
   "outputs": [],
   "source": []
  }
 ],
 "metadata": {
  "kernelspec": {
   "display_name": "Python 3",
   "language": "python",
   "name": "python3"
  },
  "language_info": {
   "codemirror_mode": {
    "name": "ipython",
    "version": 3
   },
   "file_extension": ".py",
   "mimetype": "text/x-python",
   "name": "python",
   "nbconvert_exporter": "python",
   "pygments_lexer": "ipython3",
   "version": "3.5.0"
  }
 },
 "nbformat": 4,
 "nbformat_minor": 2
}
