{
 "cells": [
  {
   "cell_type": "code",
   "execution_count": 1,
   "metadata": {
    "collapsed": false,
    "deletable": true,
    "editable": true
   },
   "outputs": [],
   "source": [
    "import http.client\n",
    "import json\n",
    "from settings import API_KEY\n",
    "import time\n",
    "from pandas.io.json import json_normalize\n",
    "import pandas as pd\n",
    "import  csv\n",
    "import ast"
   ]
  },
  {
   "cell_type": "markdown",
   "metadata": {
    "deletable": true,
    "editable": true
   },
   "source": [
    "## Funções"
   ]
  },
  {
   "cell_type": "code",
   "execution_count": 11,
   "metadata": {
    "collapsed": false,
    "deletable": true,
    "editable": true
   },
   "outputs": [],
   "source": [
    "def get_url_credits(movie_id, api_key):\n",
    "    return(\"/3/movie/\" + str(movie_id) + \"/credits\" + \"?api_key=\" + str(api_key))\n",
    "\n",
    "def get_json(conn, url):\n",
    "\tpayload = \"{}\"\n",
    "\tconn.request(\"GET\", url, payload)\n",
    "\tres = conn.getresponse()\n",
    "\tdata = res.read()\n",
    "\tdecoded = json.loads(data.decode(\"    utf-8\"))    \n",
    "\theader = res.getheader('Retry-After')\n",
    "\treturn(decoded, header)"
   ]
  },
  {
   "cell_type": "code",
   "execution_count": 63,
   "metadata": {
    "collapsed": false,
    "deletable": true,
    "editable": true
   },
   "outputs": [],
   "source": [
    "def get_movie_credits(ids):\n",
    "    \n",
    "\tconn = http.client.HTTPSConnection(\"api.themoviedb.org\")    \n",
    "\tmovie_credits_df = pd.DataFrame()\n",
    "    \n",
    "\tfor movie_id in ids:\n",
    "\t\turl = get_url_credits(movie_id, API_KEY)\n",
    "\t\tmovie_data, header = get_json(conn, url)\n",
    "\t\tprint(\"Movie ID: \", movie_id, \" Header: \", header)\n",
    "        \n",
    "\t\tif ('status_code' in movie_data):\n",
    "\t\t\ttime.sleep(int(header)+1)  \n",
    "\t\t\tmovie_data, header = get_json(conn, url)        \n",
    "\t\t\tprint(\"Movie ID: \", movie_id, \"Header: \", header)            \n",
    "        \n",
    "\t\tdf = json_normalize(movie_data)\n",
    "\t\tmovie_credits_df = movie_credits_df.append(df)\n",
    "\n",
    "\treturn movie_credits_df"
   ]
  },
  {
   "cell_type": "code",
   "execution_count": 16,
   "metadata": {
    "collapsed": true,
    "deletable": true,
    "editable": true
   },
   "outputs": [],
   "source": [
    "def get_cast(ids, movie_credits_df):\n",
    "\n",
    "    movie_cast_df = pd.DataFrame()\n",
    "\n",
    "    print(movie_credits_df['id'])\n",
    "    for idx,movie_id in enumerate(movie_credits_df['id']):\n",
    "    #for movie_id in ids_num:\n",
    "\n",
    "        movie_item = pd.DataFrame()\n",
    "        #print(movie_credits_df.head(90))\n",
    "        print(\"movie_id: %s\" % (movie_id))\n",
    "        movie_item = movie_credits_df[movie_credits_df['id']==movie_id].reset_index()\n",
    "        #print(movie_item.head(90))\n",
    "        print(\"%s of %s\" % (idx,len(ids)))\n",
    "\n",
    "        #print(movie_item['cast'])\n",
    "        \n",
    "        for cast_id in movie_item['cast'][0]:\n",
    "            cast_id.update({'movie_id': int(movie_id)})\n",
    "            cast_id.pop('profile_path', None)\n",
    "            movie_cast_df = movie_cast_df.append(cast_id, ignore_index=True)\n",
    "    \n",
    "    return movie_cast_df"
   ]
  },
  {
   "cell_type": "markdown",
   "metadata": {
    "deletable": true,
    "editable": true
   },
   "source": [
    "## Testes"
   ]
  },
  {
   "cell_type": "code",
   "execution_count": 7,
   "metadata": {
    "collapsed": false,
    "deletable": true,
    "editable": true
   },
   "outputs": [],
   "source": [
    "with open('out_sample.csv', 'r') as f:\n",
    "#with open('out_all.csv', 'r') as f:    \n",
    "    reader = csv.reader(f, skipinitialspace=True, delimiter=',')\n",
    "    ids_list = list(reader)\n",
    "    \n",
    "ids = [item for sublist in ids_list for item in sublist]"
   ]
  },
  {
   "cell_type": "code",
   "execution_count": 8,
   "metadata": {
    "collapsed": false,
    "deletable": true,
    "editable": true
   },
   "outputs": [
    {
     "data": {
      "text/plain": [
       "156"
      ]
     },
     "execution_count": 8,
     "metadata": {},
     "output_type": "execute_result"
    }
   ],
   "source": [
    "len(ids)"
   ]
  },
  {
   "cell_type": "code",
   "execution_count": 9,
   "metadata": {
    "collapsed": true,
    "deletable": true,
    "editable": true
   },
   "outputs": [],
   "source": [
    "# Transformando ids em numérico\n",
    "ids_num = list(map(int, ids))"
   ]
  },
  {
   "cell_type": "code",
   "execution_count": 64,
   "metadata": {
    "collapsed": false,
    "deletable": true,
    "editable": true
   },
   "outputs": [
    {
     "name": "stdout",
     "output_type": "stream",
     "text": [
      "Movie ID:  77  Header:  None\n",
      "Movie ID:  98  Header:  None\n",
      "Movie ID:  1359  Header:  None\n",
      "Movie ID:  8358  Header:  None\n",
      "Movie ID:  7443  Header:  None\n",
      "Movie ID:  955  Header:  None\n",
      "Movie ID:  107  Header:  None\n",
      "Movie ID:  2133  Header:  None\n",
      "Movie ID:  6282  Header:  None\n",
      "Movie ID:  40096  Header:  None\n",
      "Movie ID:  146  Header:  None\n",
      "Movie ID:  11688  Header:  None\n",
      "Movie ID:  2024  Header:  None\n",
      "Movie ID:  10862  Header:  None\n",
      "Movie ID:  10393  Header:  None\n",
      "Movie ID:  9532  Header:  None\n",
      "Movie ID:  71  Header:  None\n",
      "Movie ID:  1907  Header:  None\n",
      "Movie ID:  16187  Header:  None\n",
      "Movie ID:  4247  Header:  None\n",
      "Movie ID:  4244  Header:  None\n",
      "Movie ID:  9679  Header:  None\n",
      "Movie ID:  10473  Header:  None\n",
      "Movie ID:  6521  Header:  None\n",
      "Movie ID:  4327  Header:  None\n",
      "Movie ID:  19457  Header:  None\n",
      "Movie ID:  2440  Header:  None\n",
      "Movie ID:  8859  Header:  None\n",
      "Movie ID:  10562  Header:  None\n",
      "Movie ID:  2123  Header:  None\n",
      "Movie ID:  3176  Header:  None\n",
      "Movie ID:  1493  Header:  None\n",
      "Movie ID:  10501  Header:  None\n",
      "Movie ID:  10867  Header:  None\n",
      "Movie ID:  8843  Header:  None\n",
      "Movie ID:  30970  Header:  None\n",
      "Movie ID:  9383  Header:  None\n",
      "Movie ID:  843  Header:  None\n",
      "Movie ID:  10873  Header:  None\n",
      "Movie ID:  9741  Header:  None\n",
      "Movie ID:  876  Header:  2\n",
      "Movie ID:  876 Header:  None\n",
      "Movie ID:  10688  Header:  None\n",
      "Movie ID:  8871  Header:  None\n",
      "Movie ID:  3134  Header:  None\n",
      "Movie ID:  10471  Header:  None\n",
      "Movie ID:  11983  Header:  None\n",
      "Movie ID:  25128  Header:  None\n",
      "Movie ID:  711  Header:  None\n",
      "Movie ID:  10647  Header:  None\n",
      "Movie ID:  13930  Header:  None\n",
      "Movie ID:  12212  Header:  None\n",
      "Movie ID:  12609  Header:  None\n",
      "Movie ID:  12211  Header:  None\n",
      "Movie ID:  55  Header:  None\n",
      "Movie ID:  1597  Header:  None\n",
      "Movie ID:  2085  Header:  None\n",
      "Movie ID:  10763  Header:  None\n",
      "Movie ID:  29076  Header:  None\n",
      "Movie ID:  10560  Header:  None\n",
      "Movie ID:  1900  Header:  None\n",
      "Movie ID:  134  Header:  None\n",
      "Movie ID:  3536  Header:  None\n",
      "Movie ID:  15653  Header:  None\n",
      "Movie ID:  11478  Header:  None\n",
      "Movie ID:  10567  Header:  None\n",
      "Movie ID:  16  Header:  None\n",
      "Movie ID:  10571  Header:  None\n",
      "Movie ID:  11826  Header:  None\n",
      "Movie ID:  3981  Header:  None\n",
      "Movie ID:  9285  Header:  None\n",
      "Movie ID:  2655  Header:  None\n",
      "Movie ID:  11398  Header:  None\n",
      "Movie ID:  12490  Header:  None\n",
      "Movie ID:  9519  Header:  None\n",
      "Movie ID:  462  Header:  None\n",
      "Movie ID:  4958  Header:  None\n",
      "Movie ID:  16366  Header:  None\n",
      "Movie ID:  243  Header:  None\n",
      "Movie ID:  8584  Header:  None\n",
      "Movie ID:  5551  Header:  None\n",
      "Movie ID:  10384  Header:  2\n",
      "Movie ID:  10384 Header:  None\n",
      "Movie ID:  20637  Header:  None\n",
      "Movie ID:  14736  Header:  None\n",
      "Movie ID:  25538  Header:  None\n",
      "Movie ID:  4234  Header:  None\n",
      "Movie ID:  9600  Header:  None\n",
      "Movie ID:  479  Header:  None\n",
      "Movie ID:  8452  Header:  None\n",
      "Movie ID:  2069  Header:  None\n",
      "Movie ID:  22230  Header:  None\n",
      "Movie ID:  1636  Header:  None\n",
      "Movie ID:  11978  Header:  None\n",
      "Movie ID:  10641  Header:  None\n",
      "Movie ID:  10481  Header:  None\n",
      "Movie ID:  2155  Header:  None\n",
      "Movie ID:  31776  Header:  None\n",
      "Movie ID:  60670  Header:  None\n",
      "Movie ID:  23160  Header:  None\n",
      "Movie ID:  786  Header:  None\n",
      "Movie ID:  7450  Header:  None\n",
      "Movie ID:  24100  Header:  None\n",
      "Movie ID:  10479  Header:  None\n",
      "Movie ID:  392  Header:  None\n",
      "Movie ID:  22705  Header:  None\n",
      "Movie ID:  10991  Header:  None\n",
      "Movie ID:  17711  Header:  None\n",
      "Movie ID:  11678  Header:  None\n",
      "Movie ID:  15655  Header:  None\n",
      "Movie ID:  14181  Header:  None\n",
      "Movie ID:  15489  Header:  None\n",
      "Movie ID:  11973  Header:  None\n",
      "Movie ID:  10642  Header:  None\n",
      "Movie ID:  14195  Header:  None\n",
      "Movie ID:  110147  Header:  None\n",
      "Movie ID:  12509  Header:  None\n",
      "Movie ID:  24102  Header:  None\n",
      "Movie ID:  2046  Header:  None\n",
      "Movie ID:  12107  Header:  None\n",
      "Movie ID:  11518  Header:  None\n",
      "Movie ID:  2332  Header:  None\n",
      "Movie ID:  18041  Header:  2\n",
      "Movie ID:  18041 Header:  None\n",
      "Movie ID:  5257  Header:  None\n",
      "Movie ID:  9871  Header:  None\n",
      "Movie ID:  8870  Header:  None\n",
      "Movie ID:  10687  Header:  None\n",
      "Movie ID:  9678  Header:  None\n",
      "Movie ID:  10559  Header:  None\n",
      "Movie ID:  10637  Header:  None\n",
      "Movie ID:  5994  Header:  None\n",
      "Movie ID:  10480  Header:  None\n",
      "Movie ID:  14295  Header:  None\n",
      "Movie ID:  10564  Header:  None\n",
      "Movie ID:  3716  Header:  None\n",
      "Movie ID:  13785  Header:  None\n",
      "Movie ID:  889  Header:  None\n",
      "Movie ID:  9791  Header:  None\n",
      "Movie ID:  641  Header:  None\n",
      "Movie ID:  10461  Header:  None\n",
      "Movie ID:  4967  Header:  None\n",
      "Movie ID:  1619  Header:  None\n",
      "Movie ID:  2787  Header:  None\n",
      "Movie ID:  10569  Header:  None\n",
      "Movie ID:  36968  Header:  None\n",
      "Movie ID:  21355  Header:  None\n",
      "Movie ID:  10468  Header:  None\n",
      "Movie ID:  10577  Header:  None\n",
      "Movie ID:  1698  Header:  None\n",
      "Movie ID:  12597  Header:  None\n",
      "Movie ID:  9011  Header:  None\n",
      "Movie ID:  16234  Header:  None\n",
      "Movie ID:  2067  Header:  None\n",
      "Movie ID:  10385  Header:  None\n",
      "Movie ID:  10383  Header:  None\n",
      "Movie ID:  30944  Header:  None\n",
      "Movie ID:  51333  Header:  None\n",
      "Movie ID:  15999  Header:  None\n",
      "--- Movie Credits: 40.79381585121155 ---\n",
      "\n"
     ]
    }
   ],
   "source": [
    "start_time = time.time()\n",
    "movie_credits_df = get_movie_credits(ids_num)\n",
    "print(\"--- Movie Credits: %s ---\" % (time.time() - start_time))\n",
    "print(\"\")"
   ]
  },
  {
   "cell_type": "code",
   "execution_count": 65,
   "metadata": {
    "collapsed": false
   },
   "outputs": [
    {
     "data": {
      "text/plain": [
       "(156, 3)"
      ]
     },
     "execution_count": 65,
     "metadata": {},
     "output_type": "execute_result"
    }
   ],
   "source": [
    "movie_credits_df.shape"
   ]
  },
  {
   "cell_type": "code",
   "execution_count": 66,
   "metadata": {
    "collapsed": false
   },
   "outputs": [
    {
     "data": {
      "text/plain": [
       "0"
      ]
     },
     "execution_count": 66,
     "metadata": {},
     "output_type": "execute_result"
    }
   ],
   "source": [
    "movie_credits_df['id'].isnull().sum()"
   ]
  },
  {
   "cell_type": "code",
   "execution_count": 68,
   "metadata": {
    "collapsed": false
   },
   "outputs": [
    {
     "data": {
      "text/plain": [
       "0"
      ]
     },
     "execution_count": 68,
     "metadata": {},
     "output_type": "execute_result"
    }
   ],
   "source": [
    "movie_credits_df['id'].duplicated().sum()"
   ]
  }
 ],
 "metadata": {
  "kernelspec": {
   "display_name": "Python 3",
   "language": "python",
   "name": "python3"
  },
  "language_info": {
   "codemirror_mode": {
    "name": "ipython",
    "version": 3
   },
   "file_extension": ".py",
   "mimetype": "text/x-python",
   "name": "python",
   "nbconvert_exporter": "python",
   "pygments_lexer": "ipython3",
   "version": "3.5.0"
  }
 },
 "nbformat": 4,
 "nbformat_minor": 2
}
