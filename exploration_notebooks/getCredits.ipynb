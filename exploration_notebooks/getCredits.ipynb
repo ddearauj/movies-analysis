{
 "cells": [
  {
   "cell_type": "code",
   "execution_count": 1,
   "metadata": {
    "collapsed": false,
    "deletable": true,
    "editable": true
   },
   "outputs": [],
   "source": [
    "import http.client\n",
    "import json\n",
    "from settings import API_KEY\n",
    "import time\n",
    "from pandas.io.json import json_normalize\n",
    "import pandas as pd\n",
    "import  csv\n",
    "import ast"
   ]
  },
  {
   "cell_type": "markdown",
   "metadata": {
    "deletable": true,
    "editable": true
   },
   "source": [
    "## Funções"
   ]
  },
  {
   "cell_type": "code",
   "execution_count": 2,
   "metadata": {
    "collapsed": true,
    "deletable": true,
    "editable": true
   },
   "outputs": [],
   "source": [
    "def get_url_credits(movie_id, api_key):\n",
    "    return(\"/3/movie/\" + str(movie_id) + \"/credits\" + \"?api_key=\" + str(api_key))\n",
    "\n",
    "def get_json(conn, url):\n",
    "\tpayload = \"{}\"\n",
    "\tconn.request(\"GET\", url, payload)\n",
    "\tres = conn.getresponse()\n",
    "\tdata = res.read()\n",
    "\treturn(json.loads(data.decode(\"    utf-8\")))"
   ]
  },
  {
   "cell_type": "code",
   "execution_count": 3,
   "metadata": {
    "collapsed": false,
    "deletable": true,
    "editable": true
   },
   "outputs": [],
   "source": [
    "def get_movie_credits(ids):\n",
    "    \n",
    "\tconn = http.client.HTTPSConnection(\"api.themoviedb.org\")    \n",
    "\tmovie_credits_df = pd.DataFrame()\n",
    "    \n",
    "\tfor movie_id in ids:\n",
    "\t\turl = get_url_credits(movie_id, API_KEY)\n",
    "\t\tmovie_data = get_json(conn, url)\n",
    "        \n",
    "        #mudei!\n",
    "\t\tif ('status_code' in movie_data):\n",
    "\t\t\ttime.sleep(10)  \n",
    "\t\t\tmovie_data = get_json(conn, url)\n",
    "\t\t#else:\n",
    "\t\t#\tmovie_data = get_json(conn, url)\n",
    "        \n",
    "\t\tdf = json_normalize(movie_data)\n",
    "\t\tmovie_credits_df = movie_credits_df.append(df)\n",
    "\n",
    "\treturn movie_credits_df"
   ]
  },
  {
   "cell_type": "code",
   "execution_count": 10,
   "metadata": {
    "collapsed": true,
    "deletable": true,
    "editable": true
   },
   "outputs": [],
   "source": [
    "def get_cast(ids, movie_credits_df):\n",
    "\n",
    "    movie_cast_df = pd.DataFrame()\n",
    "\n",
    "    #print(movie_credits_df['id'])\n",
    "    #for idx,movie_id in enumerate(ids,40):\n",
    "    for movie_id in ids_num:\n",
    "\n",
    "        movie_item = pd.DataFrame()\n",
    "        #print(movie_credits_df.head(90))\n",
    "        #print(\"movie_id: %s\" % (movie_id))\n",
    "        movie_item = movie_credits_df[movie_credits_df['id']==movie_id].reset_index()\n",
    "        #print(movie_item.head(90))\n",
    "        #print(\"%s of %s\" % (idx,len(ids)))\n",
    "\n",
    "        #print(movie_item['cast'])\n",
    "        \n",
    "        for cast_id in movie_item['cast'][0]:\n",
    "            cast_id.update({'movie_id': int(movie_id)})\n",
    "            cast_id.pop('profile_path', None)\n",
    "            movie_cast_df = movie_cast_df.append(cast_id, ignore_index=True)\n",
    "    \n",
    "    return movie_cast_df"
   ]
  },
  {
   "cell_type": "markdown",
   "metadata": {
    "deletable": true,
    "editable": true
   },
   "source": [
    "## Testes"
   ]
  },
  {
   "cell_type": "code",
   "execution_count": 6,
   "metadata": {
    "collapsed": false,
    "deletable": true,
    "editable": true
   },
   "outputs": [],
   "source": [
    "with open('out_sample.csv', 'r') as f:\n",
    "#with open('out_all.csv', 'r') as f:    \n",
    "    reader = csv.reader(f, skipinitialspace=True, delimiter=',')\n",
    "    ids_list = list(reader)\n",
    "    \n",
    "ids = [item for sublist in ids_list for item in sublist]"
   ]
  },
  {
   "cell_type": "code",
   "execution_count": 7,
   "metadata": {
    "collapsed": false,
    "deletable": true,
    "editable": true
   },
   "outputs": [
    {
     "data": {
      "text/plain": [
       "156"
      ]
     },
     "execution_count": 7,
     "metadata": {},
     "output_type": "execute_result"
    }
   ],
   "source": [
    "len(ids)"
   ]
  },
  {
   "cell_type": "code",
   "execution_count": 8,
   "metadata": {
    "collapsed": true,
    "deletable": true,
    "editable": true
   },
   "outputs": [],
   "source": [
    "# Transformando ids em numérico\n",
    "ids_num = list(map(int, ids))"
   ]
  },
  {
   "cell_type": "code",
   "execution_count": 12,
   "metadata": {
    "collapsed": false,
    "deletable": true,
    "editable": true
   },
   "outputs": [
    {
     "name": "stdout",
     "output_type": "stream",
     "text": [
      "--- Movie Credits: 58.991355895996094 seconds ---\n",
      "\n"
     ]
    }
   ],
   "source": [
    "start_time = time.time()\n",
    "movie_credits_df = get_movie_credits(ids_num)\n",
    "print(\"--- Movie Credits: %s seconds ---\" % (time.time() - start_time))\n",
    "print(\"\")"
   ]
  },
  {
   "cell_type": "code",
   "execution_count": 14,
   "metadata": {
    "collapsed": false
   },
   "outputs": [],
   "source": [
    "movie_credits_df = movie_credits_df.reset_index().drop('index', axis=1)"
   ]
  },
  {
   "cell_type": "code",
   "execution_count": 15,
   "metadata": {
    "collapsed": false
   },
   "outputs": [
    {
     "data": {
      "text/plain": [
       "(156, 3)"
      ]
     },
     "execution_count": 15,
     "metadata": {},
     "output_type": "execute_result"
    }
   ],
   "source": [
    "movie_credits_df.shape"
   ]
  },
  {
   "cell_type": "code",
   "execution_count": 16,
   "metadata": {
    "collapsed": false
   },
   "outputs": [
    {
     "data": {
      "text/html": [
       "<div>\n",
       "<table border=\"1\" class=\"dataframe\">\n",
       "  <thead>\n",
       "    <tr style=\"text-align: right;\">\n",
       "      <th></th>\n",
       "      <th>cast</th>\n",
       "      <th>crew</th>\n",
       "      <th>id</th>\n",
       "    </tr>\n",
       "  </thead>\n",
       "  <tbody>\n",
       "    <tr>\n",
       "      <th>0</th>\n",
       "      <td>[{'profile_path': '/qB0BGUhMph48P1msl9wHRgL4Ae...</td>\n",
       "      <td>[{'profile_path': '/7OGmfDF4VHLLgbjxuEwTj3ga0u...</td>\n",
       "      <td>77</td>\n",
       "    </tr>\n",
       "    <tr>\n",
       "      <th>1</th>\n",
       "      <td>[{'profile_path': '/ktuOAyUHM2u2YPPChH8gAArxJ7...</td>\n",
       "      <td>[{'profile_path': '/oTAL0z0vsjipCruxXUsDUIieuh...</td>\n",
       "      <td>98</td>\n",
       "    </tr>\n",
       "    <tr>\n",
       "      <th>2</th>\n",
       "      <td>[{'profile_path': '/2ocrTd8ChuUyJOzMuD4PsQw8eC...</td>\n",
       "      <td>[{'profile_path': '/qlWi0kufzB7lCq6Jz5zuNE3Kk1...</td>\n",
       "      <td>1359</td>\n",
       "    </tr>\n",
       "    <tr>\n",
       "      <th>3</th>\n",
       "      <td>[{'profile_path': '/pQFoyx7rp09CJTAb932F2g8Nlh...</td>\n",
       "      <td>[{'profile_path': '/isCuZ9PWIOyXzdf3ihodXzjIum...</td>\n",
       "      <td>8358</td>\n",
       "    </tr>\n",
       "    <tr>\n",
       "      <th>4</th>\n",
       "      <td>[{'profile_path': '/6VGgL0bBvPIJ9vDOyyGf5nK2zL...</td>\n",
       "      <td>[{'profile_path': '/fBaZLXX3rBwhSXvtplQEtvW7VS...</td>\n",
       "      <td>7443</td>\n",
       "    </tr>\n",
       "  </tbody>\n",
       "</table>\n",
       "</div>"
      ],
      "text/plain": [
       "                                                cast  \\\n",
       "0  [{'profile_path': '/qB0BGUhMph48P1msl9wHRgL4Ae...   \n",
       "1  [{'profile_path': '/ktuOAyUHM2u2YPPChH8gAArxJ7...   \n",
       "2  [{'profile_path': '/2ocrTd8ChuUyJOzMuD4PsQw8eC...   \n",
       "3  [{'profile_path': '/pQFoyx7rp09CJTAb932F2g8Nlh...   \n",
       "4  [{'profile_path': '/6VGgL0bBvPIJ9vDOyyGf5nK2zL...   \n",
       "\n",
       "                                                crew    id  \n",
       "0  [{'profile_path': '/7OGmfDF4VHLLgbjxuEwTj3ga0u...    77  \n",
       "1  [{'profile_path': '/oTAL0z0vsjipCruxXUsDUIieuh...    98  \n",
       "2  [{'profile_path': '/qlWi0kufzB7lCq6Jz5zuNE3Kk1...  1359  \n",
       "3  [{'profile_path': '/isCuZ9PWIOyXzdf3ihodXzjIum...  8358  \n",
       "4  [{'profile_path': '/fBaZLXX3rBwhSXvtplQEtvW7VS...  7443  "
      ]
     },
     "execution_count": 16,
     "metadata": {},
     "output_type": "execute_result"
    }
   ],
   "source": [
    "movie_credits_df.head()"
   ]
  },
  {
   "cell_type": "code",
   "execution_count": 17,
   "metadata": {
    "collapsed": false,
    "deletable": true,
    "editable": true
   },
   "outputs": [
    {
     "data": {
      "text/plain": [
       "0"
      ]
     },
     "execution_count": 17,
     "metadata": {},
     "output_type": "execute_result"
    }
   ],
   "source": [
    "movie_credits_df['id'].isnull().sum()"
   ]
  },
  {
   "cell_type": "code",
   "execution_count": 18,
   "metadata": {
    "collapsed": false,
    "deletable": true,
    "editable": true
   },
   "outputs": [
    {
     "data": {
      "text/plain": [
       "0"
      ]
     },
     "execution_count": 18,
     "metadata": {},
     "output_type": "execute_result"
    }
   ],
   "source": [
    "movie_credits_df.duplicated('id').sum()"
   ]
  },
  {
   "cell_type": "code",
   "execution_count": 19,
   "metadata": {
    "collapsed": false,
    "deletable": true,
    "editable": true
   },
   "outputs": [],
   "source": [
    "#from IPython.display import display\n",
    "#pd.options.display.max_rows = None\n",
    "#movie_credits_df.head(90)"
   ]
  },
  {
   "cell_type": "code",
   "execution_count": 20,
   "metadata": {
    "collapsed": false,
    "deletable": true,
    "editable": true
   },
   "outputs": [
    {
     "name": "stdout",
     "output_type": "stream",
     "text": [
      "--- Movie Cast: 15.14481806755066 seconds ---\n",
      "\n"
     ]
    }
   ],
   "source": [
    "start_time = time.time()\n",
    "movie_cast_df = get_cast(ids_num, movie_credits_df)\n",
    "print(\"--- Movie Cast: %s seconds ---\" % (time.time() - start_time))\n",
    "print(\"\")"
   ]
  },
  {
   "cell_type": "code",
   "execution_count": 21,
   "metadata": {
    "collapsed": false
   },
   "outputs": [
    {
     "data": {
      "text/html": [
       "<div>\n",
       "<table border=\"1\" class=\"dataframe\">\n",
       "  <thead>\n",
       "    <tr style=\"text-align: right;\">\n",
       "      <th></th>\n",
       "      <th>cast_id</th>\n",
       "      <th>character</th>\n",
       "      <th>credit_id</th>\n",
       "      <th>gender</th>\n",
       "      <th>id</th>\n",
       "      <th>movie_id</th>\n",
       "      <th>name</th>\n",
       "      <th>order</th>\n",
       "    </tr>\n",
       "  </thead>\n",
       "  <tbody>\n",
       "    <tr>\n",
       "      <th>0</th>\n",
       "      <td>4.0</td>\n",
       "      <td>Leonard</td>\n",
       "      <td>52fe4214c3a36847f80024db</td>\n",
       "      <td>2.0</td>\n",
       "      <td>529.0</td>\n",
       "      <td>77.0</td>\n",
       "      <td>Guy Pearce</td>\n",
       "      <td>0.0</td>\n",
       "    </tr>\n",
       "    <tr>\n",
       "      <th>1</th>\n",
       "      <td>5.0</td>\n",
       "      <td>Natalie</td>\n",
       "      <td>52fe4214c3a36847f80024df</td>\n",
       "      <td>1.0</td>\n",
       "      <td>530.0</td>\n",
       "      <td>77.0</td>\n",
       "      <td>Carrie-Anne Moss</td>\n",
       "      <td>1.0</td>\n",
       "    </tr>\n",
       "    <tr>\n",
       "      <th>2</th>\n",
       "      <td>6.0</td>\n",
       "      <td>Teddy Gammell</td>\n",
       "      <td>52fe4214c3a36847f80024e3</td>\n",
       "      <td>2.0</td>\n",
       "      <td>532.0</td>\n",
       "      <td>77.0</td>\n",
       "      <td>Joe Pantoliano</td>\n",
       "      <td>2.0</td>\n",
       "    </tr>\n",
       "    <tr>\n",
       "      <th>3</th>\n",
       "      <td>7.0</td>\n",
       "      <td>Burt</td>\n",
       "      <td>52fe4214c3a36847f80024e7</td>\n",
       "      <td>2.0</td>\n",
       "      <td>534.0</td>\n",
       "      <td>77.0</td>\n",
       "      <td>Mark Boone Junior</td>\n",
       "      <td>3.0</td>\n",
       "    </tr>\n",
       "    <tr>\n",
       "      <th>4</th>\n",
       "      <td>10.0</td>\n",
       "      <td>Sammy</td>\n",
       "      <td>52fe4214c3a36847f80024f3</td>\n",
       "      <td>2.0</td>\n",
       "      <td>537.0</td>\n",
       "      <td>77.0</td>\n",
       "      <td>Stephen Tobolowsky</td>\n",
       "      <td>4.0</td>\n",
       "    </tr>\n",
       "  </tbody>\n",
       "</table>\n",
       "</div>"
      ],
      "text/plain": [
       "   cast_id      character                 credit_id  gender     id  movie_id  \\\n",
       "0      4.0        Leonard  52fe4214c3a36847f80024db     2.0  529.0      77.0   \n",
       "1      5.0        Natalie  52fe4214c3a36847f80024df     1.0  530.0      77.0   \n",
       "2      6.0  Teddy Gammell  52fe4214c3a36847f80024e3     2.0  532.0      77.0   \n",
       "3      7.0           Burt  52fe4214c3a36847f80024e7     2.0  534.0      77.0   \n",
       "4     10.0          Sammy  52fe4214c3a36847f80024f3     2.0  537.0      77.0   \n",
       "\n",
       "                 name  order  \n",
       "0          Guy Pearce    0.0  \n",
       "1    Carrie-Anne Moss    1.0  \n",
       "2      Joe Pantoliano    2.0  \n",
       "3   Mark Boone Junior    3.0  \n",
       "4  Stephen Tobolowsky    4.0  "
      ]
     },
     "execution_count": 21,
     "metadata": {},
     "output_type": "execute_result"
    }
   ],
   "source": [
    "movie_cast_df.head()"
   ]
  },
  {
   "cell_type": "code",
   "execution_count": null,
   "metadata": {
    "collapsed": true
   },
   "outputs": [],
   "source": []
  }
 ],
 "metadata": {
  "kernelspec": {
   "display_name": "Python 3",
   "language": "python",
   "name": "python3"
  },
  "language_info": {
   "codemirror_mode": {
    "name": "ipython",
    "version": 3
   },
   "file_extension": ".py",
   "mimetype": "text/x-python",
   "name": "python",
   "nbconvert_exporter": "python",
   "pygments_lexer": "ipython3",
   "version": "3.5.0"
  }
 },
 "nbformat": 4,
 "nbformat_minor": 2
}
