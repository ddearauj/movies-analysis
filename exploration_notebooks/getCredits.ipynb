{
 "cells": [
  {
   "cell_type": "code",
   "execution_count": 1,
   "metadata": {
    "collapsed": false,
    "deletable": true,
    "editable": true
   },
   "outputs": [],
   "source": [
    "import http.client\n",
    "import json\n",
    "from settings import API_KEY\n",
    "import time\n",
    "from pandas.io.json import json_normalize\n",
    "import pandas as pd\n",
    "import  csv\n",
    "import ast"
   ]
  },
  {
   "cell_type": "markdown",
   "metadata": {
    "deletable": true,
    "editable": true
   },
   "source": [
    "## Funções"
   ]
  },
  {
   "cell_type": "code",
   "execution_count": 24,
   "metadata": {
    "collapsed": false,
    "deletable": true,
    "editable": true
   },
   "outputs": [],
   "source": [
    "def get_url_credits(movie_id, api_key):\n",
    "    return(\"/3/movie/\" + str(movie_id) + \"/credits\" + \"?api_key=\" + str(api_key))\n",
    "\n",
    "def get_json(conn, url):\n",
    "\tpayload = \"{}\"\n",
    "\tconn.request(\"GET\", url, payload)\n",
    "\tres = conn.getresponse()\n",
    "\tdata = res.read()\n",
    "\ttry:\n",
    "\t\tdecoded = json.loads(data.decode(\"utf-8\"))\n",
    "\texcept ValueError:\n",
    "\t\tprint(\"Decode Error\")\n",
    "\t\treturn(None,0)        \n",
    "        \n",
    "\theader = res.getheader('Retry-After')\n",
    "\treturn(decoded, header)"
   ]
  },
  {
   "cell_type": "code",
   "execution_count": 26,
   "metadata": {
    "collapsed": false,
    "deletable": true,
    "editable": true
   },
   "outputs": [],
   "source": [
    "def get_movie_credits(ids):\n",
    "    \n",
    "\tconn = http.client.HTTPSConnection(\"api.themoviedb.org\")    \n",
    "\tmovie_credits_df = pd.DataFrame()\n",
    "    \n",
    "\tfor idx,movie_id in enumerate(ids,1):\n",
    "\t\turl = get_url_credits(movie_id, API_KEY)\n",
    "\t\tmovie_data, header = get_json(conn, url)\n",
    "        \n",
    "\t\tif idx % 1000 == 1:\n",
    "\t\t\tprint(\"Iteration: \", idx, \"Movie ID: \", movie_id)\n",
    "            \n",
    "\t\tif movie_data == None:\n",
    "\t\t\tprint(\"%s - Movie data == None\" % time.strftime(\"%H:%M\",time.localtime()))\n",
    "        \n",
    "\t\tif ('status_code' in movie_data):\n",
    "\t\t\ttime.sleep(int(header)+1)  \n",
    "\t\t\tmovie_data, header = get_json(conn, url)        \n",
    "        \n",
    "\t\tdf = json_normalize(movie_data)\n",
    "\t\tmovie_credits_df = movie_credits_df.append(df)\n",
    "\n",
    "\treturn movie_credits_df"
   ]
  },
  {
   "cell_type": "code",
   "execution_count": 95,
   "metadata": {
    "collapsed": false,
    "deletable": true,
    "editable": true
   },
   "outputs": [],
   "source": [
    "def get_cast(ids, movie_credits_df):\n",
    "\n",
    "    movie_cast_df = pd.DataFrame()\n",
    "    movie_crew_df = pd.DataFrame()    \n",
    "\n",
    "    for idx,movie_id in enumerate(ids,1):\n",
    "        movie_item = pd.DataFrame()\n",
    "        \n",
    "        if idx % 1000 == 1:\n",
    "            print(\"Iteration: \", idx, \"Movie_id: \", movie_id)\n",
    "            \n",
    "        movie_item = movie_credits_df[movie_credits_df['id']==movie_id]#.reset_index()\n",
    "        \n",
    "        for cast_id in movie_item['cast'][0]:\n",
    "            if cast_id:                        \n",
    "                try:\n",
    "                    cast_id.update({'movie_id': int(movie_id)})\n",
    "                    cast_id.pop('profile_path', None)            \n",
    "                    movie_cast_df = movie_cast_df.append(cast_id, ignore_index=True)\n",
    "                except AttributeError:\n",
    "                    print(\"Cast ERROR in Movie_id: \", movie_id)\n",
    "                    print(\"\")\n",
    "                    print(cast_id)\n",
    "                    print(\"\")\n",
    "                    break\n",
    "                    \n",
    "        for crew_id in movie_item['crew'][0]:\n",
    "            if crew_id: \n",
    "                try:\n",
    "                    crew_id.update({'movie_id': int(movie_id)})\n",
    "                    crew_id.pop('profile_path', None)            \n",
    "                    movie_crew_df = movie_crew_df.append(crew_id, ignore_index=True)\n",
    "                except AttributeError:\n",
    "                    print(\"Crew ERROR in Movie_id: \", movie_id)\n",
    "                    print(\"\")\n",
    "                    print(crew_id)\n",
    "                    print(\"\")\n",
    "                    break\n",
    "    \n",
    "    return(movie_cast_df, movie_crew_df)"
   ]
  },
  {
   "cell_type": "markdown",
   "metadata": {
    "deletable": true,
    "editable": true
   },
   "source": [
    "## Testes"
   ]
  },
  {
   "cell_type": "code",
   "execution_count": 13,
   "metadata": {
    "collapsed": false,
    "deletable": true,
    "editable": true
   },
   "outputs": [],
   "source": [
    "#with open('out_sample.csv', 'r') as f:\n",
    "#with open('out_all.csv', 'r') as f:   \n",
    "with open('../data/us/out.csv', 'r') as f:\n",
    "    reader = csv.reader(f, skipinitialspace=True, delimiter=',')\n",
    "    ids_list = list(reader)\n",
    "    \n",
    "ids = [item for sublist in ids_list for item in sublist]"
   ]
  },
  {
   "cell_type": "code",
   "execution_count": 14,
   "metadata": {
    "collapsed": false,
    "deletable": true,
    "editable": true
   },
   "outputs": [
    {
     "data": {
      "text/plain": [
       "65347"
      ]
     },
     "execution_count": 14,
     "metadata": {},
     "output_type": "execute_result"
    }
   ],
   "source": [
    "len(ids)"
   ]
  },
  {
   "cell_type": "code",
   "execution_count": 15,
   "metadata": {
    "collapsed": true,
    "deletable": true,
    "editable": true
   },
   "outputs": [],
   "source": [
    "# Transformando ids em numérico\n",
    "ids_num = list(map(int, ids))"
   ]
  },
  {
   "cell_type": "code",
   "execution_count": 28,
   "metadata": {
    "collapsed": false,
    "deletable": true,
    "editable": true
   },
   "outputs": [
    {
     "name": "stdout",
     "output_type": "stream",
     "text": [
      "Starting time: 20:55\n",
      "\n",
      "Iteration:  1 Movie ID:  98\n",
      "Iteration:  1001 Movie ID:  115258\n",
      "Iteration:  2001 Movie ID:  12103\n",
      "Iteration:  3001 Movie ID:  298977\n",
      "Iteration:  4001 Movie ID:  49941\n",
      "Iteration:  5001 Movie ID:  56744\n",
      "Iteration:  6001 Movie ID:  275773\n",
      "Iteration:  7001 Movie ID:  40113\n",
      "Iteration:  8001 Movie ID:  383968\n",
      "Iteration:  9001 Movie ID:  245052\n",
      "Iteration:  10001 Movie ID:  43655\n",
      "Iteration:  11001 Movie ID:  330311\n",
      "Iteration:  12001 Movie ID:  82607\n",
      "Iteration:  13001 Movie ID:  108864\n",
      "Iteration:  14001 Movie ID:  226876\n",
      "Iteration:  15001 Movie ID:  458448\n",
      "Iteration:  16001 Movie ID:  46247\n",
      "Iteration:  17001 Movie ID:  43764\n",
      "Iteration:  18001 Movie ID:  129904\n",
      "Iteration:  19001 Movie ID:  438979\n",
      "Iteration:  20001 Movie ID:  22057\n",
      "Iteration:  21001 Movie ID:  119607\n",
      "Iteration:  22001 Movie ID:  442075\n",
      "Iteration:  23001 Movie ID:  272704\n",
      "Iteration:  24001 Movie ID:  20313\n",
      "Iteration:  25001 Movie ID:  18034\n",
      "Iteration:  26001 Movie ID:  138477\n",
      "Iteration:  27001 Movie ID:  124849\n",
      "Iteration:  28001 Movie ID:  32932\n",
      "Iteration:  29001 Movie ID:  63879\n",
      "Iteration:  30001 Movie ID:  277497\n",
      "Iteration:  31001 Movie ID:  335755\n",
      "Iteration:  32001 Movie ID:  33909\n",
      "Iteration:  33001 Movie ID:  38355\n",
      "Iteration:  34001 Movie ID:  228577\n",
      "Iteration:  35001 Movie ID:  338580\n",
      "Iteration:  36001 Movie ID:  1865\n",
      "Iteration:  37001 Movie ID:  60233\n",
      "Iteration:  38001 Movie ID:  83984\n",
      "Iteration:  39001 Movie ID:  234674\n",
      "Iteration:  40001 Movie ID:  454906\n",
      "Iteration:  41001 Movie ID:  82028\n",
      "Iteration:  42001 Movie ID:  186798\n",
      "Iteration:  43001 Movie ID:  331718\n",
      "Iteration:  44001 Movie ID:  301423\n",
      "Iteration:  45001 Movie ID:  62211\n",
      "Iteration:  46001 Movie ID:  240733\n",
      "Iteration:  47001 Movie ID:  247466\n",
      "Iteration:  48001 Movie ID:  400482\n",
      "Iteration:  49001 Movie ID:  393686\n",
      "Iteration:  50001 Movie ID:  370484\n",
      "Iteration:  51001 Movie ID:  314606\n",
      "Iteration:  52001 Movie ID:  302596\n",
      "Iteration:  53001 Movie ID:  291370\n",
      "Iteration:  54001 Movie ID:  361562\n",
      "Iteration:  55001 Movie ID:  372562\n",
      "Iteration:  56001 Movie ID:  237756\n",
      "Iteration:  57001 Movie ID:  309882\n",
      "Iteration:  58001 Movie ID:  334660\n",
      "Iteration:  59001 Movie ID:  401405\n",
      "Iteration:  60001 Movie ID:  386114\n",
      "Iteration:  61001 Movie ID:  347031\n",
      "Iteration:  62001 Movie ID:  407390\n",
      "Iteration:  63001 Movie ID:  375534\n",
      "Iteration:  64001 Movie ID:  432495\n",
      "Iteration:  65001 Movie ID:  393657\n",
      "--- Movie Credits: 17318.98983693123 ---\n",
      "\n",
      "Ending time: 01:44\n",
      "\n"
     ]
    }
   ],
   "source": [
    "start_time = time.time()\n",
    "print(\"Starting time: %s\" % time.strftime(\"%H:%M\", time.localtime(start_time)))\n",
    "print(\"\")\n",
    "movie_credits_df = get_movie_credits(ids_num)\n",
    "print(\"--- Movie Credits: %s ---\" % (time.time() - start_time))\n",
    "print(\"\")\n",
    "print(\"Ending time: %s\" % time.strftime(\"%H:%M\", time.localtime()))\n",
    "print(\"\")"
   ]
  },
  {
   "cell_type": "code",
   "execution_count": 29,
   "metadata": {
    "collapsed": false
   },
   "outputs": [
    {
     "data": {
      "text/html": [
       "<div>\n",
       "<table border=\"1\" class=\"dataframe\">\n",
       "  <thead>\n",
       "    <tr style=\"text-align: right;\">\n",
       "      <th></th>\n",
       "      <th>cast</th>\n",
       "      <th>crew</th>\n",
       "      <th>id</th>\n",
       "    </tr>\n",
       "  </thead>\n",
       "  <tbody>\n",
       "    <tr>\n",
       "      <th>0</th>\n",
       "      <td>[{'gender': 2, 'character': 'Maximus', 'id': 9...</td>\n",
       "      <td>[{'gender': 2, 'id': 578, 'name': 'Ridley Scot...</td>\n",
       "      <td>98</td>\n",
       "    </tr>\n",
       "    <tr>\n",
       "      <th>0</th>\n",
       "      <td>[{'gender': 2, 'character': 'Benjamin Martin',...</td>\n",
       "      <td>[{'gender': 2, 'id': 6046, 'name': 'Roland Emm...</td>\n",
       "      <td>2024</td>\n",
       "    </tr>\n",
       "    <tr>\n",
       "      <th>0</th>\n",
       "      <td>[{'gender': 1, 'character': 'Drew Decker', 'id...</td>\n",
       "      <td>[{'gender': 2, 'id': 35689, 'name': 'Keenen Iv...</td>\n",
       "      <td>4247</td>\n",
       "    </tr>\n",
       "    <tr>\n",
       "      <th>0</th>\n",
       "      <td>[{'gender': 2, 'character': 'Leonard', 'id': 5...</td>\n",
       "      <td>[{'gender': 2, 'id': 525, 'name': 'Christopher...</td>\n",
       "      <td>77</td>\n",
       "    </tr>\n",
       "    <tr>\n",
       "      <th>0</th>\n",
       "      <td>[{'gender': 2, 'character': 'João Grilo', 'id'...</td>\n",
       "      <td>[{'gender': 2, 'id': 102560, 'name': 'Guel Arr...</td>\n",
       "      <td>40096</td>\n",
       "    </tr>\n",
       "  </tbody>\n",
       "</table>\n",
       "</div>"
      ],
      "text/plain": [
       "                                                cast  \\\n",
       "0  [{'gender': 2, 'character': 'Maximus', 'id': 9...   \n",
       "0  [{'gender': 2, 'character': 'Benjamin Martin',...   \n",
       "0  [{'gender': 1, 'character': 'Drew Decker', 'id...   \n",
       "0  [{'gender': 2, 'character': 'Leonard', 'id': 5...   \n",
       "0  [{'gender': 2, 'character': 'João Grilo', 'id'...   \n",
       "\n",
       "                                                crew     id  \n",
       "0  [{'gender': 2, 'id': 578, 'name': 'Ridley Scot...     98  \n",
       "0  [{'gender': 2, 'id': 6046, 'name': 'Roland Emm...   2024  \n",
       "0  [{'gender': 2, 'id': 35689, 'name': 'Keenen Iv...   4247  \n",
       "0  [{'gender': 2, 'id': 525, 'name': 'Christopher...     77  \n",
       "0  [{'gender': 2, 'id': 102560, 'name': 'Guel Arr...  40096  "
      ]
     },
     "execution_count": 29,
     "metadata": {},
     "output_type": "execute_result"
    }
   ],
   "source": [
    "movie_credits_df.head()"
   ]
  },
  {
   "cell_type": "code",
   "execution_count": 30,
   "metadata": {
    "collapsed": false,
    "deletable": true,
    "editable": true
   },
   "outputs": [
    {
     "data": {
      "text/plain": [
       "(65347, 3)"
      ]
     },
     "execution_count": 30,
     "metadata": {},
     "output_type": "execute_result"
    }
   ],
   "source": [
    "movie_credits_df.shape"
   ]
  },
  {
   "cell_type": "code",
   "execution_count": 31,
   "metadata": {
    "collapsed": false,
    "deletable": true,
    "editable": true
   },
   "outputs": [
    {
     "data": {
      "text/plain": [
       "0"
      ]
     },
     "execution_count": 31,
     "metadata": {},
     "output_type": "execute_result"
    }
   ],
   "source": [
    "movie_credits_df['id'].isnull().sum()"
   ]
  },
  {
   "cell_type": "code",
   "execution_count": 32,
   "metadata": {
    "collapsed": false,
    "deletable": true,
    "editable": true
   },
   "outputs": [
    {
     "data": {
      "text/plain": [
       "1569"
      ]
     },
     "execution_count": 32,
     "metadata": {},
     "output_type": "execute_result"
    }
   ],
   "source": [
    "movie_credits_df['id'].duplicated().sum()"
   ]
  },
  {
   "cell_type": "code",
   "execution_count": 35,
   "metadata": {
    "collapsed": false
   },
   "outputs": [
    {
     "data": {
      "text/plain": [
       "1569"
      ]
     },
     "execution_count": 35,
     "metadata": {},
     "output_type": "execute_result"
    }
   ],
   "source": [
    "pd.Series(ids_num).duplicated().sum()"
   ]
  },
  {
   "cell_type": "code",
   "execution_count": 107,
   "metadata": {
    "collapsed": false
   },
   "outputs": [],
   "source": [
    "movie_credits_df_dedup = movie_credits_df.drop_duplicates('id', keep='first')"
   ]
  },
  {
   "cell_type": "code",
   "execution_count": 108,
   "metadata": {
    "collapsed": false
   },
   "outputs": [
    {
     "data": {
      "text/plain": [
       "(63778, 3)"
      ]
     },
     "execution_count": 108,
     "metadata": {},
     "output_type": "execute_result"
    }
   ],
   "source": [
    "movie_credits_df_dedup.shape"
   ]
  },
  {
   "cell_type": "code",
   "execution_count": 50,
   "metadata": {
    "collapsed": false
   },
   "outputs": [],
   "source": [
    "#ids_num_sample = ids_num[0:250]\n",
    "#movie_credits_df_sample = movie_credits_df.head(250)"
   ]
  },
  {
   "cell_type": "code",
   "execution_count": 109,
   "metadata": {
    "collapsed": false,
    "scrolled": true
   },
   "outputs": [
    {
     "name": "stdout",
     "output_type": "stream",
     "text": [
      "Starting time: 09:25\n",
      "\n",
      "Iteration:  1 Movie_id:  98\n",
      "Iteration:  1001 Movie_id:  115258\n",
      "Iteration:  2001 Movie_id:  12103\n",
      "Iteration:  3001 Movie_id:  298977\n",
      "Iteration:  4001 Movie_id:  49941\n",
      "Iteration:  5001 Movie_id:  56744\n",
      "Iteration:  6001 Movie_id:  275773\n",
      "Iteration:  7001 Movie_id:  40113\n",
      "Iteration:  8001 Movie_id:  383968\n",
      "Iteration:  9001 Movie_id:  245052\n",
      "Iteration:  10001 Movie_id:  43655\n",
      "Iteration:  11001 Movie_id:  330311\n",
      "Iteration:  12001 Movie_id:  82607\n",
      "Iteration:  13001 Movie_id:  108864\n",
      "Iteration:  14001 Movie_id:  226876\n",
      "Iteration:  15001 Movie_id:  458448\n",
      "Iteration:  16001 Movie_id:  46247\n",
      "Iteration:  17001 Movie_id:  43764\n",
      "Iteration:  18001 Movie_id:  129904\n",
      "Iteration:  19001 Movie_id:  438979\n",
      "Iteration:  20001 Movie_id:  22057\n",
      "Iteration:  21001 Movie_id:  119607\n",
      "Iteration:  22001 Movie_id:  442075\n",
      "Iteration:  23001 Movie_id:  272704\n",
      "Iteration:  24001 Movie_id:  20313\n",
      "Iteration:  25001 Movie_id:  18034\n",
      "Iteration:  26001 Movie_id:  138477\n",
      "Iteration:  27001 Movie_id:  124849\n",
      "Iteration:  28001 Movie_id:  32932\n",
      "Iteration:  29001 Movie_id:  63879\n",
      "Iteration:  30001 Movie_id:  277497\n",
      "Iteration:  31001 Movie_id:  335755\n",
      "Iteration:  32001 Movie_id:  33909\n",
      "Iteration:  33001 Movie_id:  38355\n",
      "Iteration:  34001 Movie_id:  228577\n",
      "Iteration:  35001 Movie_id:  338580\n",
      "Iteration:  36001 Movie_id:  1865\n",
      "Iteration:  37001 Movie_id:  60233\n",
      "Iteration:  38001 Movie_id:  83984\n",
      "Iteration:  39001 Movie_id:  234674\n",
      "Iteration:  40001 Movie_id:  454906\n",
      "Iteration:  41001 Movie_id:  82028\n",
      "Iteration:  42001 Movie_id:  186798\n",
      "Iteration:  43001 Movie_id:  331718\n",
      "Iteration:  44001 Movie_id:  301423\n",
      "Iteration:  45001 Movie_id:  62211\n",
      "Iteration:  46001 Movie_id:  240733\n",
      "Iteration:  47001 Movie_id:  247466\n",
      "Iteration:  48001 Movie_id:  400482\n",
      "Iteration:  49001 Movie_id:  393686\n",
      "Iteration:  50001 Movie_id:  370484\n",
      "Iteration:  51001 Movie_id:  314606\n",
      "Iteration:  52001 Movie_id:  302596\n",
      "Iteration:  53001 Movie_id:  291370\n",
      "Iteration:  54001 Movie_id:  361562\n",
      "Iteration:  55001 Movie_id:  372562\n",
      "Iteration:  56001 Movie_id:  237756\n",
      "Iteration:  57001 Movie_id:  309882\n",
      "Iteration:  58001 Movie_id:  334660\n",
      "Iteration:  59001 Movie_id:  401405\n",
      "Iteration:  60001 Movie_id:  386114\n",
      "Iteration:  61001 Movie_id:  347031\n",
      "Iteration:  62001 Movie_id:  407390\n",
      "Iteration:  63001 Movie_id:  375534\n",
      "Iteration:  64001 Movie_id:  432495\n",
      "Iteration:  65001 Movie_id:  393657\n",
      "--- Movie Cast/Crew: 97241.69940114021 ---\n",
      "\n",
      "Ending time: 12:26\n",
      "\n"
     ]
    }
   ],
   "source": [
    "start_time = time.time()\n",
    "print(\"Starting time: %s\" % time.strftime(\"%H:%M\", time.localtime(start_time)))\n",
    "print(\"\")\n",
    "#movie_cast_df, movie_crew_df = get_cast(ids_num_sample,movie_credits_df_sample)\n",
    "#movie_cast_df, movie_crew_df = get_cast(ids_num,movie_credits_df)\n",
    "movie_cast_df, movie_crew_df = get_cast(ids_num,movie_credits_df_dedup)\n",
    "print(\"--- Movie Cast/Crew: %s ---\" % (time.time() - start_time))\n",
    "print(\"\")\n",
    "print(\"Ending time: %s\" % time.strftime(\"%H:%M\", time.localtime()))\n",
    "print(\"\")"
   ]
  },
  {
   "cell_type": "code",
   "execution_count": 110,
   "metadata": {
    "collapsed": false
   },
   "outputs": [
    {
     "data": {
      "text/html": [
       "<div>\n",
       "<table border=\"1\" class=\"dataframe\">\n",
       "  <thead>\n",
       "    <tr style=\"text-align: right;\">\n",
       "      <th></th>\n",
       "      <th>cast_id</th>\n",
       "      <th>character</th>\n",
       "      <th>credit_id</th>\n",
       "      <th>gender</th>\n",
       "      <th>id</th>\n",
       "      <th>movie_id</th>\n",
       "      <th>name</th>\n",
       "      <th>order</th>\n",
       "    </tr>\n",
       "  </thead>\n",
       "  <tbody>\n",
       "    <tr>\n",
       "      <th>0</th>\n",
       "      <td>8.0</td>\n",
       "      <td>Maximus</td>\n",
       "      <td>52fe4217c3a36847f8003435</td>\n",
       "      <td>2.0</td>\n",
       "      <td>934.0</td>\n",
       "      <td>98.0</td>\n",
       "      <td>Russell Crowe</td>\n",
       "      <td>0.0</td>\n",
       "    </tr>\n",
       "    <tr>\n",
       "      <th>1</th>\n",
       "      <td>9.0</td>\n",
       "      <td>Commodus</td>\n",
       "      <td>52fe4217c3a36847f8003439</td>\n",
       "      <td>2.0</td>\n",
       "      <td>73421.0</td>\n",
       "      <td>98.0</td>\n",
       "      <td>Joaquin Phoenix</td>\n",
       "      <td>1.0</td>\n",
       "    </tr>\n",
       "    <tr>\n",
       "      <th>2</th>\n",
       "      <td>10.0</td>\n",
       "      <td>Lucilla</td>\n",
       "      <td>52fe4217c3a36847f800343d</td>\n",
       "      <td>1.0</td>\n",
       "      <td>935.0</td>\n",
       "      <td>98.0</td>\n",
       "      <td>Connie Nielsen</td>\n",
       "      <td>2.0</td>\n",
       "    </tr>\n",
       "    <tr>\n",
       "      <th>3</th>\n",
       "      <td>11.0</td>\n",
       "      <td>Proximo</td>\n",
       "      <td>52fe4217c3a36847f8003441</td>\n",
       "      <td>2.0</td>\n",
       "      <td>936.0</td>\n",
       "      <td>98.0</td>\n",
       "      <td>Oliver Reed</td>\n",
       "      <td>3.0</td>\n",
       "    </tr>\n",
       "    <tr>\n",
       "      <th>4</th>\n",
       "      <td>12.0</td>\n",
       "      <td>Marcus Aurelius</td>\n",
       "      <td>52fe4217c3a36847f8003445</td>\n",
       "      <td>2.0</td>\n",
       "      <td>194.0</td>\n",
       "      <td>98.0</td>\n",
       "      <td>Richard Harris</td>\n",
       "      <td>4.0</td>\n",
       "    </tr>\n",
       "  </tbody>\n",
       "</table>\n",
       "</div>"
      ],
      "text/plain": [
       "   cast_id        character                 credit_id  gender       id  \\\n",
       "0      8.0          Maximus  52fe4217c3a36847f8003435     2.0    934.0   \n",
       "1      9.0         Commodus  52fe4217c3a36847f8003439     2.0  73421.0   \n",
       "2     10.0          Lucilla  52fe4217c3a36847f800343d     1.0    935.0   \n",
       "3     11.0          Proximo  52fe4217c3a36847f8003441     2.0    936.0   \n",
       "4     12.0  Marcus Aurelius  52fe4217c3a36847f8003445     2.0    194.0   \n",
       "\n",
       "   movie_id             name  order  \n",
       "0      98.0    Russell Crowe    0.0  \n",
       "1      98.0  Joaquin Phoenix    1.0  \n",
       "2      98.0   Connie Nielsen    2.0  \n",
       "3      98.0      Oliver Reed    3.0  \n",
       "4      98.0   Richard Harris    4.0  "
      ]
     },
     "execution_count": 110,
     "metadata": {},
     "output_type": "execute_result"
    }
   ],
   "source": [
    "movie_cast_df.head()"
   ]
  },
  {
   "cell_type": "code",
   "execution_count": 111,
   "metadata": {
    "collapsed": false
   },
   "outputs": [
    {
     "data": {
      "text/html": [
       "<div>\n",
       "<table border=\"1\" class=\"dataframe\">\n",
       "  <thead>\n",
       "    <tr style=\"text-align: right;\">\n",
       "      <th></th>\n",
       "      <th>credit_id</th>\n",
       "      <th>department</th>\n",
       "      <th>gender</th>\n",
       "      <th>id</th>\n",
       "      <th>job</th>\n",
       "      <th>movie_id</th>\n",
       "      <th>name</th>\n",
       "    </tr>\n",
       "  </thead>\n",
       "  <tbody>\n",
       "    <tr>\n",
       "      <th>0</th>\n",
       "      <td>52fe4217c3a36847f800340d</td>\n",
       "      <td>Directing</td>\n",
       "      <td>2.0</td>\n",
       "      <td>578.0</td>\n",
       "      <td>Director</td>\n",
       "      <td>98.0</td>\n",
       "      <td>Ridley Scott</td>\n",
       "    </tr>\n",
       "    <tr>\n",
       "      <th>1</th>\n",
       "      <td>52fe4217c3a36847f8003413</td>\n",
       "      <td>Production</td>\n",
       "      <td>2.0</td>\n",
       "      <td>929.0</td>\n",
       "      <td>Producer</td>\n",
       "      <td>98.0</td>\n",
       "      <td>David Franzoni</td>\n",
       "    </tr>\n",
       "    <tr>\n",
       "      <th>2</th>\n",
       "      <td>52fe4217c3a36847f8003419</td>\n",
       "      <td>Production</td>\n",
       "      <td>2.0</td>\n",
       "      <td>930.0</td>\n",
       "      <td>Producer</td>\n",
       "      <td>98.0</td>\n",
       "      <td>Branko Lustig</td>\n",
       "    </tr>\n",
       "    <tr>\n",
       "      <th>3</th>\n",
       "      <td>52fe4217c3a36847f800341f</td>\n",
       "      <td>Production</td>\n",
       "      <td>2.0</td>\n",
       "      <td>931.0</td>\n",
       "      <td>Producer</td>\n",
       "      <td>98.0</td>\n",
       "      <td>Douglas Wick</td>\n",
       "    </tr>\n",
       "    <tr>\n",
       "      <th>4</th>\n",
       "      <td>52fe4217c3a36847f8003425</td>\n",
       "      <td>Writing</td>\n",
       "      <td>2.0</td>\n",
       "      <td>929.0</td>\n",
       "      <td>Screenplay</td>\n",
       "      <td>98.0</td>\n",
       "      <td>David Franzoni</td>\n",
       "    </tr>\n",
       "  </tbody>\n",
       "</table>\n",
       "</div>"
      ],
      "text/plain": [
       "                  credit_id  department  gender     id         job  movie_id  \\\n",
       "0  52fe4217c3a36847f800340d   Directing     2.0  578.0    Director      98.0   \n",
       "1  52fe4217c3a36847f8003413  Production     2.0  929.0    Producer      98.0   \n",
       "2  52fe4217c3a36847f8003419  Production     2.0  930.0    Producer      98.0   \n",
       "3  52fe4217c3a36847f800341f  Production     2.0  931.0    Producer      98.0   \n",
       "4  52fe4217c3a36847f8003425     Writing     2.0  929.0  Screenplay      98.0   \n",
       "\n",
       "             name  \n",
       "0    Ridley Scott  \n",
       "1  David Franzoni  \n",
       "2   Branko Lustig  \n",
       "3    Douglas Wick  \n",
       "4  David Franzoni  "
      ]
     },
     "execution_count": 111,
     "metadata": {},
     "output_type": "execute_result"
    }
   ],
   "source": [
    "movie_crew_df.head()"
   ]
  },
  {
   "cell_type": "code",
   "execution_count": 113,
   "metadata": {
    "collapsed": false
   },
   "outputs": [],
   "source": [
    "movie_cast_df.to_csv('../data/movie_cast_df.csv')\n",
    "movie_crew_df.to_csv('../data/movie_crew_df.csv')"
   ]
  },
  {
   "cell_type": "code",
   "execution_count": null,
   "metadata": {
    "collapsed": true
   },
   "outputs": [],
   "source": []
  }
 ],
 "metadata": {
  "kernelspec": {
   "display_name": "Python 3",
   "language": "python",
   "name": "python3"
  },
  "language_info": {
   "codemirror_mode": {
    "name": "ipython",
    "version": 3
   },
   "file_extension": ".py",
   "mimetype": "text/x-python",
   "name": "python",
   "nbconvert_exporter": "python",
   "pygments_lexer": "ipython3",
   "version": "3.5.0"
  }
 },
 "nbformat": 4,
 "nbformat_minor": 2
}
