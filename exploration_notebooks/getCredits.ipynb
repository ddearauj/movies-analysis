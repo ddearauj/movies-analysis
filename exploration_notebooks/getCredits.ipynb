{
 "cells": [
  {
   "cell_type": "code",
   "execution_count": 1,
   "metadata": {
    "collapsed": false,
    "deletable": true,
    "editable": true
   },
   "outputs": [],
   "source": [
    "import http.client\n",
    "import json\n",
    "from settings import API_KEY\n",
    "import time\n",
    "from pandas.io.json import json_normalize\n",
    "import pandas as pd\n",
    "import  csv\n",
    "import ast"
   ]
  },
  {
   "cell_type": "markdown",
   "metadata": {
    "deletable": true,
    "editable": true
   },
   "source": [
    "## Funções"
   ]
  },
  {
   "cell_type": "code",
   "execution_count": 2,
   "metadata": {
    "collapsed": false,
    "deletable": true,
    "editable": true
   },
   "outputs": [],
   "source": [
    "def get_url_credits(movie_id, api_key):\n",
    "    return(\"/3/movie/\" + str(movie_id) + \"/credits\" + \"?api_key=\" + str(api_key))\n",
    "\n",
    "def get_json(conn, url):\n",
    "\tpayload = \"{}\"\n",
    "\tconn.request(\"GET\", url, payload)\n",
    "\tres = conn.getresponse()\n",
    "\tdata = res.read()\n",
    "\tdecoded = json.loads(data.decode(\"    utf-8\"))    \n",
    "\theader = res.getheader('Retry-After')\n",
    "\treturn(decoded, header)"
   ]
  },
  {
   "cell_type": "code",
   "execution_count": 12,
   "metadata": {
    "collapsed": false,
    "deletable": true,
    "editable": true
   },
   "outputs": [],
   "source": [
    "def get_movie_credits(ids):\n",
    "    \n",
    "\tconn = http.client.HTTPSConnection(\"api.themoviedb.org\")    \n",
    "\tmovie_credits_df = pd.DataFrame()\n",
    "    \n",
    "\tfor idx,movie_id in enumerate(ids,1):\n",
    "\t\turl = get_url_credits(movie_id, API_KEY)\n",
    "\t\tmovie_data, header = get_json(conn, url)\n",
    "        \n",
    "\t\tif idx % 1000 == 1:\n",
    "\t\t\tprint(\"Iteration: \", idx, \"Movie ID: \", movie_id)\n",
    "        \n",
    "\t\tif ('status_code' in movie_data):\n",
    "\t\t\ttime.sleep(int(header)+1)  \n",
    "\t\t\tmovie_data, header = get_json(conn, url)        \n",
    "        \n",
    "\t\tdf = json_normalize(movie_data)\n",
    "\t\tmovie_credits_df = movie_credits_df.append(df)\n",
    "\n",
    "\treturn movie_credits_df"
   ]
  },
  {
   "cell_type": "code",
   "execution_count": 16,
   "metadata": {
    "collapsed": true,
    "deletable": true,
    "editable": true
   },
   "outputs": [],
   "source": [
    "def get_cast(ids, movie_credits_df):\n",
    "\n",
    "    movie_cast_df = pd.DataFrame()\n",
    "\n",
    "    print(movie_credits_df['id'])\n",
    "    for idx,movie_id in enumerate(movie_credits_df['id']):\n",
    "    #for movie_id in ids_num:\n",
    "\n",
    "        movie_item = pd.DataFrame()\n",
    "        #print(movie_credits_df.head(90))\n",
    "        print(\"movie_id: %s\" % (movie_id))\n",
    "        movie_item = movie_credits_df[movie_credits_df['id']==movie_id].reset_index()\n",
    "        #print(movie_item.head(90))\n",
    "        print(\"%s of %s\" % (idx,len(ids)))\n",
    "\n",
    "        #print(movie_item['cast'])\n",
    "        \n",
    "        for cast_id in movie_item['cast'][0]:\n",
    "            cast_id.update({'movie_id': int(movie_id)})\n",
    "            cast_id.pop('profile_path', None)\n",
    "            movie_cast_df = movie_cast_df.append(cast_id, ignore_index=True)\n",
    "    \n",
    "    return movie_cast_df"
   ]
  },
  {
   "cell_type": "markdown",
   "metadata": {
    "deletable": true,
    "editable": true
   },
   "source": [
    "## Testes"
   ]
  },
  {
   "cell_type": "code",
   "execution_count": 13,
   "metadata": {
    "collapsed": false,
    "deletable": true,
    "editable": true
   },
   "outputs": [],
   "source": [
    "#with open('out_sample.csv', 'r') as f:\n",
    "#with open('out_all.csv', 'r') as f:   \n",
    "with open('../data/us/out.csv', 'r') as f:\n",
    "    reader = csv.reader(f, skipinitialspace=True, delimiter=',')\n",
    "    ids_list = list(reader)\n",
    "    \n",
    "ids = [item for sublist in ids_list for item in sublist]"
   ]
  },
  {
   "cell_type": "code",
   "execution_count": 14,
   "metadata": {
    "collapsed": false,
    "deletable": true,
    "editable": true
   },
   "outputs": [
    {
     "data": {
      "text/plain": [
       "65347"
      ]
     },
     "execution_count": 14,
     "metadata": {},
     "output_type": "execute_result"
    }
   ],
   "source": [
    "len(ids)"
   ]
  },
  {
   "cell_type": "code",
   "execution_count": 15,
   "metadata": {
    "collapsed": true,
    "deletable": true,
    "editable": true
   },
   "outputs": [],
   "source": [
    "# Transformando ids em numérico\n",
    "ids_num = list(map(int, ids))"
   ]
  },
  {
   "cell_type": "code",
   "execution_count": null,
   "metadata": {
    "collapsed": false,
    "deletable": true,
    "editable": true
   },
   "outputs": [
    {
     "name": "stdout",
     "output_type": "stream",
     "text": [
      "Starting time: 17:40\n",
      "\n",
      "Iteration:  1 Movie ID:  98\n"
     ]
    }
   ],
   "source": [
    "start_time = time.time()\n",
    "print(\"Starting time: %s\" % time.strftime(\"%H:%M\", time.localtime(start_time)))\n",
    "print(\"\")\n",
    "movie_credits_df = get_movie_credits(ids_num)\n",
    "print(\"--- Movie Credits: %s ---\" % (time.time() - start_time))\n",
    "print(\"\")\n",
    "print(\"Ending time: %s\" % time.strftime(\"%H:%M\", time.localtime()))\n",
    "print(\"\")"
   ]
  },
  {
   "cell_type": "code",
   "execution_count": 65,
   "metadata": {
    "collapsed": false,
    "deletable": true,
    "editable": true
   },
   "outputs": [
    {
     "data": {
      "text/plain": [
       "(156, 3)"
      ]
     },
     "execution_count": 65,
     "metadata": {},
     "output_type": "execute_result"
    }
   ],
   "source": [
    "movie_credits_df.shape"
   ]
  },
  {
   "cell_type": "code",
   "execution_count": 66,
   "metadata": {
    "collapsed": false,
    "deletable": true,
    "editable": true
   },
   "outputs": [
    {
     "data": {
      "text/plain": [
       "0"
      ]
     },
     "execution_count": 66,
     "metadata": {},
     "output_type": "execute_result"
    }
   ],
   "source": [
    "movie_credits_df['id'].isnull().sum()"
   ]
  },
  {
   "cell_type": "code",
   "execution_count": 68,
   "metadata": {
    "collapsed": false,
    "deletable": true,
    "editable": true
   },
   "outputs": [
    {
     "data": {
      "text/plain": [
       "0"
      ]
     },
     "execution_count": 68,
     "metadata": {},
     "output_type": "execute_result"
    }
   ],
   "source": [
    "movie_credits_df['id'].duplicated().sum()"
   ]
  }
 ],
 "metadata": {
  "kernelspec": {
   "display_name": "Python 3",
   "language": "python",
   "name": "python3"
  },
  "language_info": {
   "codemirror_mode": {
    "name": "ipython",
    "version": 3
   },
   "file_extension": ".py",
   "mimetype": "text/x-python",
   "name": "python",
   "nbconvert_exporter": "python",
   "pygments_lexer": "ipython3",
   "version": "3.5.0"
  }
 },
 "nbformat": 4,
 "nbformat_minor": 2
}
